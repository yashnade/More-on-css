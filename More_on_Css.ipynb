{
  "nbformat": 4,
  "nbformat_minor": 0,
  "metadata": {
    "colab": {
      "provenance": []
    },
    "kernelspec": {
      "name": "python3",
      "display_name": "Python 3"
    },
    "language_info": {
      "name": "python"
    }
  },
  "cells": [
    {
      "cell_type": "markdown",
      "source": [
        "Q1.Full Stack Web Development\n",
        "& Create a navigation bar similar to the below-mentioned image. The navigation bar must contain 5\n",
        "navigation links that are properly placed within the navigation bar using the CSS box model. The navigation\n",
        "items must change their text color on hover."
      ],
      "metadata": {
        "id": "rAslSuBLdugi"
      }
    },
    {
      "cell_type": "code",
      "source": [
        "<!DOCTYPE html>\n",
        "<html>\n",
        "    <head>\n",
        "        <title>\n",
        "            creating table\n",
        "        </title>\n",
        "        <style>\n",
        "\n",
        "            .row{\n",
        "\n",
        "                text-decoration: underline;\n",
        "                background-color: blue;\n",
        "                width: 1000px;\n",
        "            }\n",
        "         .row th a{\n",
        "        color: black;\n",
        "        font-weight: bold;\n",
        "\n",
        "\n",
        "            }\n",
        "\n",
        "\n",
        "        </style>\n",
        "    </head>\n",
        "    <body>\n",
        "\n",
        "        <table class=\"row\">\n",
        "            <thead >\n",
        "                <tr >\n",
        "                    <th><a href=\"Home.html\">Home</a></th>\n",
        "                    <th><a href=\"About us.html\">About us</a></th>\n",
        "                    <th><a href=\"Contact.html\">Contact</a></th>\n",
        "                    <th><a href=\"Blog.html\">Blog</a></th>\n",
        "                    <th><a href=\"Login.html\">Login</a></th>\n",
        "                </tr>\n",
        "            </thead>\n",
        "\n",
        "        </table>\n",
        "    </body>\n",
        "</html>"
      ],
      "metadata": {
        "colab": {
          "base_uri": "https://localhost:8080/",
          "height": 108
        },
        "id": "t0KNrW03dzpK",
        "outputId": "6f3c0157-118e-4dc9-b46c-581d434cf8cf"
      },
      "execution_count": null,
      "outputs": [
        {
          "output_type": "error",
          "ename": "IndentationError",
          "evalue": "unindent does not match any outer indentation level (<tokenize>, line 15)",
          "traceback": [
            "\u001b[0;36m  File \u001b[0;32m\"<tokenize>\"\u001b[0;36m, line \u001b[0;32m15\u001b[0m\n\u001b[0;31m    .row th a{\u001b[0m\n\u001b[0m    ^\u001b[0m\n\u001b[0;31mIndentationError\u001b[0m\u001b[0;31m:\u001b[0m unindent does not match any outer indentation level\n"
          ]
        }
      ]
    },
    {
      "cell_type": "markdown",
      "source": [
        "Q2.& Create a div centered with an image and paragraph similar to the image mentioned below."
      ],
      "metadata": {
        "id": "PwqhVZ4aeJja"
      }
    },
    {
      "cell_type": "code",
      "source": [
        "<!DOCTYPE html>\n",
        "<html lang=\"en\">\n",
        "<head>\n",
        "  <meta charset=\"UTF-8\">\n",
        "  <title>Card</title>\n",
        "  <style>\n",
        "    * {\n",
        "      margin: 0;\n",
        "      padding: 0;\n",
        "      box-sizing: border-box;\n",
        "    }\n",
        "\n",
        "\n",
        "    .card {\n",
        "      text-align: center;\n",
        "       justify-content: center;\n",
        "      align-items: center;\n",
        "    }\n",
        "\n",
        "    .card img {\n",
        "      width: 400px;\n",
        "      max-width: 100%;\n",
        "      border-radius: 15px;\n",
        "      box-shadow: 0 4px 10px rgba(0, 0, 0, 0.2);\n",
        "\n",
        "    }\n",
        "\n",
        "    .card p {\n",
        "      margin-top: 12px;\n",
        "      font-size: 16px;\n",
        "      color: #333;\n",
        "      font-weight: bold;\n",
        "    }\n",
        "  </style>\n",
        "</head>\n",
        "<body>\n",
        "  <div class=\"card\">\n",
        "    <img src=\"fullstack.png\" alt=\"Full stack Web Development\">\n",
        "    <p>Course Name: PW SKills full stack web development</p>\n",
        "  </div>\n",
        "</body>\n",
        "</html>\n"
      ],
      "metadata": {
        "id": "jY1VBpbKpL9a"
      },
      "execution_count": null,
      "outputs": []
    },
    {
      "cell_type": "markdown",
      "source": [
        "Q3. Create a navigation bar similar to question 1. For each navigation item, use a different border style&"
      ],
      "metadata": {
        "id": "mek4QgaIpa_t"
      }
    },
    {
      "cell_type": "code",
      "source": [
        "<!DOCTYPE html>\n",
        "<html>\n",
        "    <head>\n",
        "        <title>\n",
        "            creating table\n",
        "        </title>\n",
        "        <style>\n",
        "\n",
        "            .row{\n",
        "\n",
        "                text-decoration: underline;\n",
        "                background-color: blue;\n",
        "                width: 1000px;\n",
        "            }\n",
        "         .row th a{\n",
        "        color: black;\n",
        "        font-weight: bold;\n",
        "\n",
        "\n",
        "            }\n",
        "\n",
        "\n",
        "        </style>\n",
        "    </head>\n",
        "    <body>\n",
        "\n",
        "        <table class=\"row\">\n",
        "            <thead >\n",
        "                <tr >\n",
        "                    <th style=\" border: 2px solid black; background-color:brown\"><a href=\"Home.html\">Home</a></th>\n",
        "                    <th style=\" border: 2px solid black; background-color:green\"><a href=\"About us.html\">About us</a></th>\n",
        "                    <th style=\" border: 2px solid black; background-color:aqua\"><a href=\"Contact.html\">Contact</a></th>\n",
        "                    <th style=\"border: 2px solid black; background-color:bisque\"><a href=\"Blog.html\">Blog</a></th>\n",
        "                    <th style=\" border: 2px solid black; background-color:salmon\"><a href=\"Login.html\">Login</a></th>\n",
        "                </tr>\n",
        "            </thead>\n",
        "\n",
        "        </table>\n",
        "    </body>\n",
        "</html>"
      ],
      "metadata": {
        "id": "PIt8dOyvujKM"
      },
      "execution_count": null,
      "outputs": []
    },
    {
      "cell_type": "markdown",
      "source": [
        "Q4.& Create a simple webpage with an image and make the image circular using border-radius&"
      ],
      "metadata": {
        "id": "-tZIJSgJukve"
      }
    },
    {
      "cell_type": "code",
      "source": [
        "<!DOCTYPE html>\n",
        "<html lang=\"en\">\n",
        "<head>\n",
        "  <meta charset=\"UTF-8\">\n",
        "  <title>Circular Image</title>\n",
        "  <style>\n",
        "    body {\n",
        "      display: flex;\n",
        "      justify-content: center;\n",
        "      align-items: center;\n",
        "      height: 100vh;\n",
        "      background-color: #f0f0f0;\n",
        "    }\n",
        "\n",
        "    img {\n",
        "      width: 200px;\n",
        "      height: 200px;\n",
        "      object-fit: cover;\n",
        "      border-radius: 50%; /* Makes the image perfectly circular */\n",
        "      border: 4px solid #333;\n",
        "    }\n",
        "  </style>\n",
        "</head>\n",
        "<body>\n",
        "\n",
        "  <img src=\"profile.jpg\" alt=\"Circular Image\">\n",
        "\n",
        "</body>\n",
        "</html>\n"
      ],
      "metadata": {
        "id": "amXhqOO_usoV"
      },
      "execution_count": null,
      "outputs": []
    },
    {
      "cell_type": "markdown",
      "source": [
        "Q5. Create a simple blog website about Google fonts. The webpage must have the heading with “Oswald” font\n",
        "align center to the page, below the heading have an image of Google fonts and a paragraph about Google\n",
        "fonts in font “Montserrat” paragraph font style should be“montserrat” font"
      ],
      "metadata": {
        "id": "QNqv7XF3nthu"
      }
    },
    {
      "cell_type": "code",
      "source": [
        "<!DOCTYPE html>\n",
        "<html lang=\"en\">\n",
        "<head>\n",
        "  <meta charset=\"UTF-8\">\n",
        "  <title>Google Fonts Blog</title>\n",
        "\n",
        "  <!-- Google Fonts -->\n",
        "  <link href=\"https://fonts.googleapis.com/css2?family=Montserrat&family=Oswald&display=swap\" rel=\"stylesheet\">\n",
        "\n",
        "  <style>\n",
        "    body {\n",
        "      font-family: 'Montserrat', sans-serif;\n",
        "      margin: 0;\n",
        "      padding: 0;\n",
        "      text-align: center;\n",
        "      background-color: #fafafa;\n",
        "    }\n",
        "\n",
        "    h1 {\n",
        "      font-family: 'Oswald', sans-serif;\n",
        "      font-size: 3em;\n",
        "      margin-top: 40px;\n",
        "    }\n",
        "\n",
        "    img {\n",
        "      width: 400px;\n",
        "      margin-top: 20px;\n",
        "      border-radius: 10px;\n",
        "    }\n",
        "\n",
        "    p {\n",
        "      max-width: 700px;\n",
        "      margin: 30px auto;\n",
        "      font-size: 1.1em;\n",
        "      line-height: 1.6;\n",
        "      color: #333;\n",
        "    }\n",
        "  </style>\n",
        "</head>\n",
        "<body>\n",
        "\n",
        "  <h1>Google Fonts</h1>\n",
        "\n",
        "  <img src=\"https://upload.wikimedia.org/wikipedia/commons/thumb/1/19/Google_Fonts_logo.svg/512px-Google_Fonts_logo.svg.png\" alt=\"Google Fonts Logo\">\n",
        "\n",
        "  <p>\n",
        "    Google Fonts is a library of free and open-source font families offered by Google. It provides web designers and developers access to high-quality typography that can be easily integrated into websites. With hundreds of font options, including styles like sans-serif, serif, handwritten, and display, Google Fonts enhances readability, design appeal, and user experience across different devices and platforms. Two popular fonts include \"Oswald\" for strong headings and \"Montserrat\" for clean, readable body text.\n",
        "  </p>\n",
        "\n",
        "</body>\n",
        "</html>\n"
      ],
      "metadata": {
        "id": "quxBjcE1rk3q"
      },
      "execution_count": null,
      "outputs": []
    },
    {
      "cell_type": "markdown",
      "source": [
        "Q6.  Create a simple website as mentioned in the below image. You can get the assets by visiting https://\n",
        "pwskills.com/about-us."
      ],
      "metadata": {
        "id": "PCNS6l0kwsDc"
      }
    },
    {
      "cell_type": "code",
      "source": [
        "<!DOCTYPE html>\n",
        "<html lang=\"en\">\n",
        "<head>\n",
        "  <meta charset=\"UTF-8\">\n",
        "  <title>about-us</title>\n",
        "\n",
        "  <!-- Google Fonts -->\n",
        "  <link href=\"https://fonts.googleapis.com/css2?family=Montserrat&family=Oswald&display=swap\" rel=\"stylesheet\">\n",
        "\n",
        "  <style>\n",
        "    body {\n",
        "      font-family: 'Montserrat', sans-serif;\n",
        "      margin: 0;\n",
        "      padding: 0;\n",
        "      text-align: center;\n",
        "      background-color: #fafafa;\n",
        "    }\n",
        "\n",
        "    h1 {\n",
        "      font-family: 'Oswald', sans-serif;\n",
        "      font-size: 3em;\n",
        "      margin-top: 40px;\n",
        "    }\n",
        "\n",
        "    img {\n",
        "      width: 400px;\n",
        "      margin-top: 20px;\n",
        "      border-radius: 10px;\n",
        "    }\n",
        "\n",
        "    p {\n",
        "      max-width: 700px;\n",
        "      margin: 30px auto;\n",
        "      font-size: 1.1em;\n",
        "      line-height: 1.6;\n",
        "      color: #333;\n",
        "    }\n",
        "  </style>\n",
        "</head>\n",
        "<body>\n",
        "\n",
        "  <h1>About us</h1>\n",
        "\n",
        "\n",
        "\n",
        "  <p>\n",
        "  PW Skills mission is to permeate through every student/professional’s outlook towards jobs and change their attitude and perspective from “How Can I Do It?” to “Of Course I Can Do It”. We aim to do this by providing exceptional up skilling courses at affordable rates, while being tech-forward so anyone, anywhere can access and improve their ability to be successful in life.\n",
        "  </p>\n",
        "<img src=\"pwimage.png\" alt=\"Google Fonts Logo\">\n",
        "</body>\n",
        "</html>\n"
      ],
      "metadata": {
        "id": "PUUinGnmyUsP"
      },
      "execution_count": null,
      "outputs": []
    },
    {
      "cell_type": "markdown",
      "source": [
        "Q7. Create a simple webpage with a card similar to question number 2. The card must be semi-transparent as\n",
        "default and on hovering the card must be displayed clearly. Use CSS opacity to achieve this output."
      ],
      "metadata": {
        "id": "hNLbn2XZzFd6"
      }
    },
    {
      "cell_type": "code",
      "source": [
        "<!DOCTYPE html>\n",
        "<html lang=\"en\">\n",
        "<head>\n",
        "  <meta charset=\"UTF-8\">\n",
        "  <title>Transparent Card Hover Effect</title>\n",
        "  <style>\n",
        "    body {\n",
        "      margin: 0;\n",
        "      padding: 0;\n",
        "      display: flex;\n",
        "      justify-content: center;\n",
        "      align-items: center;\n",
        "      height: 100vh;\n",
        "      background-color: #f2f2f2;\n",
        "      font-family: Arial, sans-serif;\n",
        "    }\n",
        "\n",
        "    .card {\n",
        "      width: 600px;\n",
        "      border-radius: 15px;\n",
        "      overflow: hidden;\n",
        "      box-shadow: 0 8px 16px rgba(0,0,0,0.3);\n",
        "      background-color: white;\n",
        "      opacity: 0.5; /* semi-transparent */\n",
        "      transition: opacity 2s ease;\n",
        "    }\n",
        "\n",
        "    .card:hover {\n",
        "      opacity: 1; /* fully visible on hover */\n",
        "    }\n",
        "\n",
        "    .card img {\n",
        "      width: 100%;\n",
        "      height: auto;\n",
        "      display: block;\n",
        "    }\n",
        "\n",
        "    .card-content {\n",
        "      padding: 15px;\n",
        "      text-align: center;\n",
        "    }\n",
        "\n",
        "    .card-content h3 {\n",
        "      margin: 0;\n",
        "      font-size: 1.5em;\n",
        "    }\n",
        "\n",
        "    .card-content p {\n",
        "      font-size: 0.95em;\n",
        "      color: #555;\n",
        "    }\n",
        "  </style>\n",
        "</head>\n",
        "<body>\n",
        "\n",
        "  <div class=\"card\">\n",
        "    <img src=\"pwimage.png\" alt=\"Course Image\">\n",
        "    <div class=\"card-content\">\n",
        "      <h3>Full Stack Web Development</h3>\n",
        "      <p>Course Name: PW Skills Full Stack Web Development</p>\n",
        "    </div>\n",
        "  </div>\n",
        "\n",
        "</body>\n",
        "</html>\n"
      ],
      "metadata": {
        "id": "-qn4jgV03hFb"
      },
      "execution_count": null,
      "outputs": []
    },
    {
      "cell_type": "markdown",
      "source": [
        "Q8.Create a simple list of items as mentioned in the below image"
      ],
      "metadata": {
        "id": "wPUJoJ2j6cc_"
      }
    },
    {
      "cell_type": "code",
      "source": [
        "<!DOCTYPE html>\n",
        "<html>\n",
        "<head>\n",
        "  <title>Requirements</title>\n",
        "  <style>\n",
        "    .box {\n",
        "      border: 1px solid black;\n",
        "      width: fit-content;\n",
        "      padding: 20px;\n",
        "      font-family: Arial, sans-serif;\n",
        "    }\n",
        "\n",
        "    h1 {\n",
        "      font-size: 36px;\n",
        "      font-weight: bold;\n",
        "    }\n",
        "\n",
        "    ol {\n",
        "      list-style-type: lower-roman;\n",
        "      font-size: 18px;\n",
        "    }\n",
        "  </style>\n",
        "</head>\n",
        "<body>\n",
        "\n",
        "  <div class=\"box\">\n",
        "    <h1>Requirements</h1>\n",
        "    <ol>\n",
        "      <li>System with minimum i3 processor or better.</li>\n",
        "      <li>At least 4 GB of RAM.</li>\n",
        "      <li>Working internet connection.</li>\n",
        "      <li>Dedication to learn</li>\n",
        "    </ol>\n",
        "  </div>\n",
        "\n",
        "</body>\n",
        "</html>\n"
      ],
      "metadata": {
        "id": "Rr6tMIDH7VAM"
      },
      "execution_count": null,
      "outputs": []
    }
  ]
}